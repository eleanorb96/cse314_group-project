{
 "cells": [
  {
   "cell_type": "markdown",
   "metadata": {},
   "source": [
    "#### Top 15 Fast-Food Restaurants\n",
    "1. MCDONALD'S\n",
    "2. ~~STARBUCKS~~\n",
    "3. SUBWAY\n",
    "4. TACO BELL\n",
    "5. CHICK-FIL-A\n",
    "6. WENDY'S\n",
    "7. BURGER KING\n",
    "8. ~~DUNKIN~~\n",
    "9. DOMINO'S\n",
    "10. PANERA BREAD\n",
    "11. PIZZA HUT\n",
    "12. CHIPOTLE\n",
    "13. SONIC DRIVE-IN\n",
    "14. KFC\n",
    "15. ARBY'S\n",
    "\n",
    "<!-- source: https://www.qsrmagazine.com/content/ranking-top-50-fast-food-chains-america -->"
   ]
  },
  {
   "cell_type": "code",
   "execution_count": null,
   "metadata": {},
   "outputs": [],
   "source": [
    "# pip install nutritionix-client\n",
    "import numpy as np\n",
    "import pandas as pd\n",
    "\n",
    "import requests\n",
    "\n",
    "# conda create -n cse314_group-project_env python3.10 "
   ]
  },
  {
   "cell_type": "code",
   "execution_count": null,
   "metadata": {},
   "outputs": [],
   "source": [
    "top_restaurants = []"
   ]
  }
 ],
 "metadata": {
  "kernelspec": {
   "display_name": "Python 3.11.0 64-bit",
   "language": "python",
   "name": "python3"
  },
  "language_info": {
   "name": "python",
   "version": "3.11.0"
  },
  "orig_nbformat": 4,
  "vscode": {
   "interpreter": {
    "hash": "aee8b7b246df8f9039afb4144a1f6fd8d2ca17a180786b69acc140d282b71a49"
   }
  }
 },
 "nbformat": 4,
 "nbformat_minor": 2
}
