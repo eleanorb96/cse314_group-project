{
 "cells": [
  {
   "cell_type": "markdown",
   "metadata": {},
   "source": [
    "#### Top 15 Fast-Food Restaurants\n",
    "1. MCDONALD'S\n",
    "2. ~~STARBUCKS~~\n",
    "3. SUBWAY\n",
    "4. TACO BELL\n",
    "5. CHICK-FIL-A\n",
    "6. WENDY'S\n",
    "7. BURGER KING\n",
    "8. ~~DUNKIN~~\n",
    "9. DOMINO'S\n",
    "10. PANERA BREAD\n",
    "11. PIZZA HUT\n",
    "12. CHIPOTLE\n",
    "13. SONIC DRIVE-IN\n",
    "14. KFC\n",
    "15. ARBY'S\n",
    "\n",
    "<!-- source: https://www.qsrmagazine.com/content/ranking-top-50-fast-food-chains-america -->"
   ]
  },
  {
   "cell_type": "code",
   "execution_count": 2,
   "metadata": {},
   "outputs": [],
   "source": [
    "import os\n",
    "import numpy as np\n",
    "import pandas as pd\n",
    "\n",
    "import requests\n",
    "import json\n",
    "import nutritionix\n"
   ]
  },
  {
   "cell_type": "code",
   "execution_count": 3,
   "metadata": {},
   "outputs": [],
   "source": [
    "top_restaurants = [\"McDonald's\", \"Subway\", \"Taco Bell\", \"Chick-Fil-A\", \"Wendy's\", \"Burger King\", \"Domino's\", \"Panera Bread\", \"Pizza Hut\", \"Chipotle\"]"
   ]
  },
  {
   "cell_type": "code",
   "execution_count": 4,
   "metadata": {},
   "outputs": [],
   "source": [
    "base_url = nutritionix.BASE_URL"
   ]
  },
  {
   "cell_type": "code",
   "execution_count": 5,
   "metadata": {},
   "outputs": [],
   "source": [
    "nix = nutritionix.Nutritionix(app_id='308da017', api_key='6341c12fa5fd62a25d952671356a47c0')\n"
   ]
  },
  {
   "cell_type": "code",
   "execution_count": 6,
   "metadata": {},
   "outputs": [],
   "source": [
    "nix.set_auth()"
   ]
  },
  {
   "cell_type": "code",
   "execution_count": null,
   "metadata": {},
   "outputs": [],
   "source": [
    "nix.search(\"McDonalds\")"
   ]
  }
 ],
 "metadata": {
  "kernelspec": {
   "display_name": "Python 3.9.15 ('base')",
   "language": "python",
   "name": "python3"
  },
  "language_info": {
   "codemirror_mode": {
    "name": "ipython",
    "version": 3
   },
   "file_extension": ".py",
   "mimetype": "text/x-python",
   "name": "python",
   "nbconvert_exporter": "python",
   "pygments_lexer": "ipython3",
   "version": "3.9.15"
  },
  "orig_nbformat": 4,
  "vscode": {
   "interpreter": {
    "hash": "6c7e4fcfc5daada97026908c59eda12bbdc32b8750f34160ec1093e33613fbad"
   }
  }
 },
 "nbformat": 4,
 "nbformat_minor": 2
}
