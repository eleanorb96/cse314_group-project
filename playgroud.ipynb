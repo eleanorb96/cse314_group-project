{
 "cells": [
  {
   "cell_type": "code",
   "execution_count": 2,
   "metadata": {},
   "outputs": [],
   "source": [
    "%load_ext autoreload\n",
    "%autoreload 2\n"
   ]
  },
  {
   "cell_type": "code",
   "execution_count": 3,
   "metadata": {},
   "outputs": [],
   "source": [
    "import pandas as pd\n",
    "import Nutrition_Dashboard_Sample_Data\n"
   ]
  },
  {
   "cell_type": "code",
   "execution_count": 4,
   "metadata": {},
   "outputs": [
    {
     "data": {
      "text/plain": [
       "Index(['brand_name', 'item_name', 'brand_id', 'item_id', 'upc', 'item_type',\n",
       "       'item_description', 'nf_ingredient_statement', 'nf_calories',\n",
       "       'nf_calories_from_fat', 'nf_total_fat', 'nf_saturated_fat',\n",
       "       'nf_trans_fatty_acid', 'nf_polyunsaturated_fat',\n",
       "       'nf_monounsaturated_fat', 'nf_cholesterol', 'nf_sodium',\n",
       "       'nf_total_carbohydrate', 'nf_dietary_fiber', 'nf_sugars', 'nf_protein',\n",
       "       'nf_vitamin_a_dv', 'nf_vitamin_c_dv', 'nf_calcium_dv', 'nf_iron_dv',\n",
       "       'nf_potassium', 'nf_servings_per_container', 'nf_serving_size_qty',\n",
       "       'nf_serving_size_unit', 'nf_serving_weight_grams',\n",
       "       'images_front_full_url', 'updated_at', 'section_id'],\n",
       "      dtype='object')"
      ]
     },
     "execution_count": 4,
     "metadata": {},
     "output_type": "execute_result"
    }
   ],
   "source": [
    "df = pd.read_csv(\"sample_data.csv\")\n",
    "df.columns"
   ]
  },
  {
   "cell_type": "code",
   "execution_count": 8,
   "metadata": {},
   "outputs": [
    {
     "data": {
      "text/plain": [
       "Index(['Unnamed: 0.1', 'Unnamed: 0', 'old_api_id', 'item_id', 'item_name',\n",
       "       'leg_loc_id', 'brand_id', 'brand_name', 'item_description',\n",
       "       'updated_at', 'nf_ingredient_statement', 'nf_water_grams',\n",
       "       'nf_calories', 'nf_calories_from_fat', 'nf_total_fat',\n",
       "       'nf_saturated_fat', 'nf_trans_fatty_acid', 'nf_polyunsaturated_fat',\n",
       "       'nf_monounsaturated_fat', 'nf_cholesterol', 'nf_sodium',\n",
       "       'nf_total_carbohydrate', 'nf_dietary_fiber', 'nf_sugars', 'nf_protein',\n",
       "       'nf_vitamin_a_dv', 'nf_vitamin_c_dv', 'nf_calcium_dv', 'nf_iron_dv',\n",
       "       'nf_refuse_pct', 'nf_servings_per_container', 'nf_serving_size_qty',\n",
       "       'nf_serving_size_unit', 'nf_serving_weight_grams',\n",
       "       'allergen_contains_milk', 'allergen_contains_eggs',\n",
       "       'allergen_contains_fish', 'allergen_contains_shellfish',\n",
       "       'allergen_contains_tree_nuts', 'allergen_contains_peanuts',\n",
       "       'allergen_contains_wheat', 'allergen_contains_soybeans',\n",
       "       'allergen_contains_gluten', 'usda_fields'],\n",
       "      dtype='object')"
      ]
     },
     "execution_count": 8,
     "metadata": {},
     "output_type": "execute_result"
    }
   ],
   "source": [
    "mdf = pd.read_csv(\"https://raw.githubusercontent.com/eleanorb96/cse314_group-project/bhoshaw/updated_mcd_data.csv\")\n",
    "mdf.columns"
   ]
  }
 ],
 "metadata": {
  "kernelspec": {
   "display_name": "Python 3.10.4 64-bit",
   "language": "python",
   "name": "python3"
  },
  "language_info": {
   "codemirror_mode": {
    "name": "ipython",
    "version": 3
   },
   "file_extension": ".py",
   "mimetype": "text/x-python",
   "name": "python",
   "nbconvert_exporter": "python",
   "pygments_lexer": "ipython3",
   "version": "3.10.4"
  },
  "orig_nbformat": 4,
  "vscode": {
   "interpreter": {
    "hash": "3ad933181bd8a04b432d3370b9dc3b0662ad032c4dfaa4e4f1596c548f763858"
   }
  }
 },
 "nbformat": 4,
 "nbformat_minor": 2
}
